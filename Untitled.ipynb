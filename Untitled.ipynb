{
 "cells": [
  {
   "cell_type": "markdown",
   "metadata": {},
   "source": [
    "Population vs. Median Home Prices\n",
    "Linear Regression with Single Variable"
   ]
  },
  {
   "cell_type": "markdown",
   "metadata": {},
   "source": [
    "Load and parse the data"
   ]
  },
  {
   "cell_type": "code",
   "execution_count": null,
   "metadata": {},
   "outputs": [],
   "source": [
    "# Use the Spark CSV datasource with options specifying:\n",
    "#  - First line of file is a header\n",
    "#  - Automatically infer the schema of the data\n",
    "\n",
    "data = spark.read.csv(\"/Users/cchavez/dev/Group_Project/HOUSE_COMBINED/HOUSE_COMBINED.csv\", header=\"true\", inferSchema=\"true\")\n",
    "data.cache()  # Cache data for faster reuse\n",
    "data.count()"
   ]
  },
  {
   "cell_type": "code",
   "execution_count": null,
   "metadata": {},
   "outputs": [],
   "source": [
    "display(data)\n"
   ]
  },
  {
   "cell_type": "code",
   "execution_count": null,
   "metadata": {},
   "outputs": [],
   "source": []
  }
 ],
 "metadata": {
  "kernelspec": {
   "display_name": "PyCharm (RipplesInSpacetime)",
   "language": "python",
   "name": "pycharm-fef16a46"
  }
 },
 "nbformat": 4,
 "nbformat_minor": 4
}
